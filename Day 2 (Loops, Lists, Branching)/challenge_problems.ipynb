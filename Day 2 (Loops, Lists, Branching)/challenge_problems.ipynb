{
 "cells": [
  {
   "cell_type": "markdown",
   "metadata": {},
   "source": [
    "<h5 style=\"color: #EC4000;\"> Overview </h5>\n",
    "\n",
    "These are problems that test your knowledge of utilizing loops, lists, and branching! Each problem does come with a hint, but I have tried to not make it super obvious. I have made these problems based on famous introductory problems. There isn't a particular order so feel free to try stuff out and see what happens!"
   ]
  },
  {
   "cell_type": "markdown",
   "metadata": {},
   "source": [
    "<h5 style=\"color: #EC4000;\"> Problem 1: String Deletion </h5>\n",
    "\n",
    "In this problem, complete the code such that all strings that start with a capital letter is removed!\n",
    "\n",
    "**Hint 1:** Why did I put three question marks for `range`?\n"
   ]
  },
  {
   "cell_type": "code",
   "execution_count": 5,
   "metadata": {},
   "outputs": [],
   "source": [
    "# Problem 1\n",
    "\n",
    "names = [\"alana\", \"anthony\", \"Joshua\", \"Alejandro\", \"melissa\", \"sesha\", \"Andrew\"]\n",
    "\n",
    "# --- EDIT THIS FOR LOOP --- #\n",
    "\n",
    "# Iterate through list\n",
    "for index in range(?, ?, ?):\n",
    "    # Uppercase check\n",
    "    if names[?][0] in \"ABCDEFGHIJKLMNOPQRSTUVWXYZ\":\n",
    "        # Delete the name\n",
    "        del names[?]\n",
    "              \n",
    "# Do not change this! No output means you got it right!\n",
    "assert (names == [\"alana\", \"anthony\", \"melissa\", \"sesha\"]), f\"Your solution does not match!\\nHere's the output of your list: {names}\""
   ]
  },
  {
   "cell_type": "markdown",
   "metadata": {},
   "source": [
    "<h5 style=\"color: #EC4000;\"> Problem 2: Reverse a String </h5>\n",
    "\n",
    "In this problem, reverse a string!\n",
    "\n",
    "**Hint 1:** How do you do this with a loop?\n",
    "\n",
    "**Hint 2:** Slicing?"
   ]
  },
  {
   "cell_type": "code",
   "execution_count": 6,
   "metadata": {},
   "outputs": [],
   "source": [
    "# Problem 2\n",
    "\n",
    "# Reverse this string\n",
    "input_string = \"Miss Rev!\"\n",
    "# Make sure you store the reversed string in this variable\n",
    "output_string = \"\"\n",
    "\n",
    "# --- ENTER YOUR CODE HERE ---\n",
    "\n",
    "\n",
    "# ----------------------------\n",
    "\n",
    "# Check your output to make sure it says \"!veR ssiM\" (without the quotes of course)\n",
    "print(output_string)"
   ]
  }
 ],
 "metadata": {
  "kernelspec": {
   "display_name": "Python 3",
   "language": "python",
   "name": "python3"
  },
  "language_info": {
   "codemirror_mode": {
    "name": "ipython",
    "version": 3
   },
   "file_extension": ".py",
   "mimetype": "text/x-python",
   "name": "python",
   "nbconvert_exporter": "python",
   "pygments_lexer": "ipython3",
   "version": "3.12.6"
  }
 },
 "nbformat": 4,
 "nbformat_minor": 2
}
