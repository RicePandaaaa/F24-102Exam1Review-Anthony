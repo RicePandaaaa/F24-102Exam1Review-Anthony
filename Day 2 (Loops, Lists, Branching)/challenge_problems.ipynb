{
 "cells": [
  {
   "cell_type": "markdown",
   "metadata": {},
   "source": [
    "<h5 style=\"color: #EC4000;\"> Overview </h5>\n",
    "\n",
    "These are problems that test your knowledge of utilizing loops, lists, and branching! Each problem does come with a hint, but I have tried to not make it super obvious. I have made these problems based on famous introductory problems. There isn't a particular order so feel free to try stuff out and see what happens!\n",
    "\n",
    "In problems where I ask you to complete something for me, I will leave \"?\" in places where I want you to put your code. Of course, please make sure to remove the question marks since you're *replacing* them with your code. The replacement code does not necessarily have to be a single word: it can be a whole line, statement, etc."
   ]
  },
  {
   "cell_type": "markdown",
   "metadata": {},
   "source": [
    "<h5 style=\"color: #EC4000;\"> Problem 1: String Deletion </h5>\n",
    "\n",
    "In this problem, complete the code such that all strings that start with a capital letter is removed!\n",
    "\n",
    "**Hint 1:** Why did I put three question marks for `range`?\n"
   ]
  },
  {
   "cell_type": "code",
   "execution_count": 5,
   "metadata": {},
   "outputs": [],
   "source": [
    "# Problem 1\n",
    "\n",
    "names = [\"alana\", \"anthony\", \"Joshua\", \"Alejandro\", \"melissa\", \"sesha\", \"Andrew\"]\n",
    "\n",
    "# --- EDIT THIS FOR LOOP --- #\n",
    "\n",
    "# Iterate through list\n",
    "for index in range(?, ?, ?):\n",
    "    # Uppercase check\n",
    "    if names[?][0] in \"ABCDEFGHIJKLMNOPQRSTUVWXYZ\":\n",
    "        # Delete the name\n",
    "        del names[?]\n",
    "              \n",
    "# Do not change this! No output means you got it right!\n",
    "assert (names == [\"alana\", \"anthony\", \"melissa\", \"sesha\"]), f\"Your solution does not match!\\nHere's the output of your list: {names}\""
   ]
  },
  {
   "cell_type": "markdown",
   "metadata": {},
   "source": [
    "<h5 style=\"color: #EC4000;\"> Problem 2: Reverse a String </h5>\n",
    "\n",
    "In this problem, reverse a string!\n",
    "\n",
    "**Hint 1:** How do you do this with a loop?\n",
    "\n",
    "**Hint 2:** Slicing?"
   ]
  },
  {
   "cell_type": "code",
   "execution_count": 6,
   "metadata": {},
   "outputs": [],
   "source": [
    "# Problem 2\n",
    "\n",
    "# Reverse this string\n",
    "input_string = \"Miss Rev!\"\n",
    "# Make sure you store the reversed string in this variable\n",
    "output_string = \"\"\n",
    "\n",
    "# --- ENTER YOUR CODE HERE ---\n",
    "\n",
    "\n",
    "# ----------------------------\n",
    "\n",
    "# Check your output to make sure it says \"!veR ssiM\" (without the quotes of course)\n",
    "print(output_string)"
   ]
  },
  {
   "cell_type": "markdown",
   "metadata": {},
   "source": [
    "<h5 style=\"color: #EC4000;\"> Problem 3: Join... the hard way </h5>\n",
    "\n",
    "In this problem, complete the code to ensure to combine all the strings in a list with a comma and a space. The trick? You can't use `.join()`! Obviously I can't check this, but try not to use `.join()`!\n",
    "\n",
    "**Hint 1:** You do need to add some code to this loop!\n",
    "\n",
    "**Hint 2:** Look at the comments"
   ]
  },
  {
   "cell_type": "code",
   "execution_count": 12,
   "metadata": {},
   "outputs": [],
   "source": [
    "# Problem 3\n",
    "\n",
    "things_i_like = [\"dogs\", \"dogs\", \"more dogs\"]\n",
    "\n",
    "# --- COMPLETE THIS FOR LOOP ---\n",
    "new_str = \"\"\n",
    "\n",
    "for index in range(len(things_i_like)):\n",
    "    # Add the word with a comma to the end\n",
    "    ?\n",
    "        new_str ?= things_i_like[?] + ?\n",
    "    # Add just the word\n",
    "    ?\n",
    "        new_str ?= things_i_like[?]\n",
    "                 \n",
    "# Do not change this! No output means you did it correctly!\n",
    "assert new_str == \"dogs, dogs, more dogs\", f\"\\nExpected: dogs, dogs, more dogs\\nGot: {new_str}\"\n"
   ]
  },
  {
   "cell_type": "code",
   "execution_count": null,
   "metadata": {},
   "outputs": [],
   "source": []
  }
 ],
 "metadata": {
  "kernelspec": {
   "display_name": "Python 3",
   "language": "python",
   "name": "python3"
  },
  "language_info": {
   "codemirror_mode": {
    "name": "ipython",
    "version": 3
   },
   "file_extension": ".py",
   "mimetype": "text/x-python",
   "name": "python",
   "nbconvert_exporter": "python",
   "pygments_lexer": "ipython3",
   "version": "3.12.6"
  }
 },
 "nbformat": 4,
 "nbformat_minor": 2
}
