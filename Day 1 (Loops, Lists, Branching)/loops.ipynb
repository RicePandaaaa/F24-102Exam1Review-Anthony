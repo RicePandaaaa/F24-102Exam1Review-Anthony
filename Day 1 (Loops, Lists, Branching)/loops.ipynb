{
 "cells": [
  {
   "cell_type": "markdown",
   "metadata": {},
   "source": [
    "<h2 style=\"color: #EC4000;\"> Overview </h2>\n",
    "\n",
    "In this interactive Python notebook, we will be going over the fundamentals of loops, particularly the `for` loop and the `while` loop. This notebook has been made and testing using **Python 3**. I believe Google Colab is currently on Python 3.10, which is different than the most recent version of Python (3.12), but those version differences should be irrelevant to this notebook and its contents.To use this notebook, simply download this file and upload to Google Colab! Next to each code block should be a play button which you can press to execute the code block. For this notebook, each code block can be run independently and in any order!"
   ]
  },
  {
   "cell_type": "markdown",
   "metadata": {},
   "source": [
    "<h5 style=\"color: #EC4000;\"> Using a for loop </h5>\n",
    "\n",
    "When you first learned `for` loops, you were taught that `for` is for when you know exactly how many times you want to run a loop. Example 1 shows a basic example of a `for` loop running a set amount of times."
   ]
  },
  {
   "cell_type": "code",
   "execution_count": 1,
   "metadata": {},
   "outputs": [
    {
     "name": "stdout",
     "output_type": "stream",
     "text": [
      "0\n",
      "1\n",
      "2\n",
      "3\n",
      "4\n"
     ]
    }
   ],
   "source": [
    "# Example 1: Basic for loop\n",
    "\n",
    "for i in range(5):\n",
    "    print(i)"
   ]
  },
  {
   "cell_type": "markdown",
   "metadata": {},
   "source": [
    "It is a rather straightforward example, just printing every number from 0 (inclusive) to 5 (exclusive). However, you may not exactly know how many times you will run the `for` loop but you know that there's some number tied to some variable. You can still use a `for` loop since you are running for a definitive number of times, as shown in Example 2:"
   ]
  },
  {
   "cell_type": "code",
   "execution_count": 3,
   "metadata": {},
   "outputs": [
    {
     "name": "stdout",
     "output_type": "stream",
     "text": [
      "0 | 1 | \n",
      "0 | 1 | 2 | 3 | "
     ]
    }
   ],
   "source": [
    "# Example 2: for loop based on a variable number\n",
    "\n",
    "x = 2\n",
    "for i in range(x):\n",
    "    print(f\"{i} | \", end=\"\")\n",
    "\n",
    "print()\n",
    "\n",
    "x = 4\n",
    "for i in range(x):\n",
    "    print(f\"{i} | \", end=\"\")"
   ]
  },
  {
   "cell_type": "markdown",
   "metadata": {},
   "source": [
    "As seen above, although the `for` loops are visually identical, since the loops run based off of the value of `x`, changing `x` will change the number of times each loop will run! Well why is this imporant? Because this is the basis of how you use a `for` loop to iterate through lists and strings!\n",
    "\n",
    "<h5 style=\"color: #EC4000;\"> Looping through a list or string </h5>\n",
    "\n",
    "The common problem with trying to loop through lists and strings people first run into is how do you know where the end of the list or string is? Let's say there is a list of lowercase letters called `letters`. How does *any* loop know where the end is? You can't exactly check if there is a next letter because you can get an error of trying to access an index out of bounds. A `while` loop requires a condition and a `for` loop requires a number or some sort of range, so how do we form the correct condition or `range`?\n",
    "\n",
    "To answer this problem, we must first need to know what information we know about this list. We know what variable it is tied to (`letters`), but that doesn't really help. We do know what is inside, but we need to access them all somehow. The last piece of info we do have is the *length* of the list with `len()`!\n",
    "\n",
    "`len()` is the critical piece of info here. If we look at this example list:\n",
    "```python\n",
    "letters = [\"a\", \"e\", \"i\", \"o\", \"u\"]\n",
    "```\n",
    "\n",
    "we can note that the length of the list is one larger than the last index. If you think about it, generally speaking, *every* list has a length that is exactly one larger than the largest index (this is due to zero-indexing). But how is this helpful? We know now that all the indices in the list will range from 0 to `len()`-1. We can use `range()` to generate those numbers and use a `for` loop to go through each index one by one:"
   ]
  },
  {
   "cell_type": "code",
   "execution_count": 4,
   "metadata": {},
   "outputs": [
    {
     "name": "stdout",
     "output_type": "stream",
     "text": [
      "At index 0, there is the letter \"a\"\n",
      "At index 1, there is the letter \"e\"\n",
      "At index 2, there is the letter \"i\"\n",
      "At index 3, there is the letter \"o\"\n",
      "At index 4, there is the letter \"u\"\n"
     ]
    }
   ],
   "source": [
    "# Example 3: Looping through a list\n",
    "\n",
    "letters = [\"a\", \"e\", \"i\", \"o\", \"u\"]\n",
    "\n",
    "for index in range(len(letters)):\n",
    "    print(f\"At index {index}, there is the letter \\\"{letters[index]}\\\"\")"
   ]
  },
  {
   "cell_type": "markdown",
   "metadata": {},
   "source": [
    "Feel free to play around with the list and add or remove stuff from it and see how the output changes! Example 3 however, or at least the template of using `for i in range(len(list))`, with `i` being whatever you want to name your loop variable, and `list` being the name of whatever list or string you are using.\n",
    "\n",
    "Know that this `for` loop is a very, very commonly tested concept in not just this course, but in general. It is so powerful with what it can do since you can do so much while going through a list or string.\n",
    "\n",
    "<h5 style=\"color: #EC4000;\"> Speed looping through a list or string </h5>\n",
    "\n",
    "Sometimes, you don't care so much about the indexing, and you only care about the elements themselves. Perhaps you want to multiply all the numbers in a list together: you don't particularly care where they are as long as you get them all. \n",
    "\n",
    "For the section before, you can use a `for` loop "
   ]
  }
 ],
 "metadata": {
  "kernelspec": {
   "display_name": "Python 3",
   "language": "python",
   "name": "python3"
  },
  "language_info": {
   "codemirror_mode": {
    "name": "ipython",
    "version": 3
   },
   "file_extension": ".py",
   "mimetype": "text/x-python",
   "name": "python",
   "nbconvert_exporter": "python",
   "pygments_lexer": "ipython3",
   "version": "3.10.6"
  }
 },
 "nbformat": 4,
 "nbformat_minor": 2
}
