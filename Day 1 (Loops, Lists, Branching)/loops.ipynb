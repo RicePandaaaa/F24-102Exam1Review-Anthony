{
 "cells": [
  {
   "cell_type": "markdown",
   "metadata": {},
   "source": [
    "<h2 style=\"color: #EC4000;\"> Overview </h2>\n",
    "\n",
    "In this interactive Python notebook, we will be going over the fundamentals of loops, particularly the `for` loop and the `while` loop. This notebook has been made and testing using **Python 3**. I believe Google Colab is currently on Python 3.10, which is different than the most recent version of Python (3.12), but those version differences should be irrelevant to this notebook and its contents.To use this notebook, simply download this file and upload to Google Colab! Next to each code block should be a play button which you can press to execute the code block. For this notebook, each code block can be run independently and in any order!\n",
    "\n",
    "The full table of contents of this notebook will include:\n",
    "- Why use a `for` loop\n",
    "- Why use a `while` loop\n",
    "- Iteration using `range()`\n",
    "- Iteration using a list or a string\n",
    "- `break`\n",
    "- `continue`"
   ]
  },
  {
   "cell_type": "code",
   "execution_count": null,
   "metadata": {},
   "outputs": [],
   "source": []
  }
 ],
 "metadata": {
  "kernelspec": {
   "display_name": "Python 3",
   "language": "python",
   "name": "python3"
  },
  "language_info": {
   "name": "python",
   "version": "3.12.6"
  }
 },
 "nbformat": 4,
 "nbformat_minor": 2
}
